{
 "cells": [
  {
   "cell_type": "markdown",
   "id": "d52c54c7",
   "metadata": {},
   "source": [
    "### Investible Universe\n",
    "NASDAQ, NYSE stocks with ESG rate\n",
    "\n",
    "### Trading window\n",
    "mid-2010 (ESG rating becomes popular and more companies begin to receive ESG ratings)\n",
    "2013 - 2024\n",
    "\n",
    "### Outliers\n",
    "exclude the companies that has big variance in rating (very different rating between agencies) - top10% variance in the list\n",
    "\n",
    "### Methodology:\n",
    "1. Average the ESG rating from different agencies \n",
    "2. ESG factor\n",
    "    - $r^{{esg(1)}}$ denotes the portfolio of stocks in the lowest ESG(G)rate decile\n",
    "    - $r^{{esg(10)}}$ denotes the portfolio of stocks in the highest ESG(G)rate decile.\n",
    "\n",
    "    - LONG AND SHORT: $r^{{esg(10)}} - r^{{esg(1)}}$\n",
    "    - LONG ONLY: $\\frac{1}{3}(r^{{esg(10)}} + r^{{esg(9)}} + r^{{esg(8)}})$\n",
    "3. Run subsample (2013-2016, 2017-2020, 2021-2024) to see whether rating has positive mean\n",
    "4. See its correlation with Farma French factors\n",
    "5. Run regression model: with and without ESG factor\n",
    "\n",
    "### Assessment\n",
    "1. Cowles Test for checking significance: test the coefficient is significant\n",
    "2. Bootstrapping for robustness\n",
    "\n",
    "### Trading Strategy\n",
    "1. Use existing ETF in the market to build the portfolio"
   ]
  },
  {
   "cell_type": "markdown",
   "id": "6de5255e",
   "metadata": {},
   "source": [
    "# Issue with the current proposal\n",
    "\n",
    "### ESG factor construction: \n",
    "its correlation with other\n",
    "exclude the size factor in the factor construction: because company with large size tend to have higher ESG rate\n",
    "\n",
    "if using 5-farma french factor model + ESG + momentum:\n",
    "64 portfolios (2^6)\n",
    "\n",
    "### Just DO IT ANYWAY!\n",
    "use this factor to regress on other factors\n",
    "if there is significant alpha: means it is unique and cannot be explained by other factors\n",
    "\n",
    "\n",
    "### Sensitivity Test\n",
    "#### 1. \n",
    "momentum strategy: long winners short losers\n",
    "backtest: result is good\n",
    "\n",
    "- choose the quarterly rebalancing days (+/- 5 days) see whether the result will change a lot\n",
    "        - 30% (1,4,7,11) 30% (2,5,8,12) 30% (3,6,9)\n",
    "\n",
    "#### 2. \n",
    "Use other separataion: decile, quartile, etc \n",
    "should produce a similar result\n",
    "\n",
    "hard to know population statistics: whether it is overfitting \n",
    "\n",
    "\n",
    "Upenn course worths reading and learning"
   ]
  },
  {
   "cell_type": "code",
   "execution_count": null,
   "id": "ee091064",
   "metadata": {},
   "outputs": [],
   "source": []
  }
 ],
 "metadata": {
  "kernelspec": {
   "display_name": "Python 3 (ipykernel)",
   "language": "python",
   "name": "python3"
  },
  "language_info": {
   "codemirror_mode": {
    "name": "ipython",
    "version": 3
   },
   "file_extension": ".py",
   "mimetype": "text/x-python",
   "name": "python",
   "nbconvert_exporter": "python",
   "pygments_lexer": "ipython3",
   "version": "3.8.8"
  }
 },
 "nbformat": 4,
 "nbformat_minor": 5
}
